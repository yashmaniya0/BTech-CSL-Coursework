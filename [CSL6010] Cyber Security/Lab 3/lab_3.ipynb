{
 "cells": [
  {
   "cell_type": "markdown",
   "metadata": {},
   "source": [
    "## **Lab 3 : CSL6010 - Cyber Security**"
   ]
  },
  {
   "cell_type": "code",
   "execution_count": 34,
   "metadata": {},
   "outputs": [],
   "source": [
    "import os\n",
    "from Crypto.Cipher import AES, DES\n",
    "from Crypto.Util.Padding import pad, unpad\n",
    "from Crypto.Random import get_random_bytes\n",
    "from PIL import Image\n",
    "import numpy as np"
   ]
  },
  {
   "cell_type": "markdown",
   "metadata": {},
   "source": [
    "### **Part1 [4 marks]:**\n",
    "\n",
    "Use DES and AES with modes like ECB, CBC, CFB, and OFB provided in Symmetric block\n",
    "ciphers to Encrypt and Decrypt a Message. The Key used for encryption and decryption will be\n",
    "your roll number + first name (if the length is insufficient, pad the key with 0’s).\n",
    "Key Example: B20CS033YASH0000"
   ]
  },
  {
   "cell_type": "code",
   "execution_count": 57,
   "metadata": {},
   "outputs": [
    {
     "name": "stdout",
     "output_type": "stream",
     "text": [
      "Original message: PC Member, 25th International Symposium on Stabilization, Safety, and Security of Distributed Systems, Crypto track\n",
      "\n",
      "DES Encryption and Decryption\n",
      "\n",
      "\n",
      "Encrypted message (EBC): b\"\\xb6P\\x04\\xfd$\\xa4Hs`\\x01\\xc9\\xb2?\\xed\\x03-Y\\x19\\x9f\\xf1\\xc0\\x8f\\x93\\x1c\\xaa\\x1f\\xec\\x88\\x99\\x0f'\\xf8'U\\x1e\\xd3\\xb6{f\\xa7\\x1d\\xe09\\xa6i\\x7f~\\x0b\\x11\\xc0\\x89\\xe6\\xd4\\xbe\\xeej\\xccD\\xd6\\x84\\x05\\xa5\\xfd\\xe8bl\\xbfY\\x11\\x95I!\\xbaI\\xe2{b\\x9f\\xe9>\\xd7O\\xdb\\x00\\xa4d\\x1b\\x87\\xb6\\x97a^\\x9f!6t\\xe0\\x11\\xd6^\\x11i4UI\\xde\\xeb\\x92S\\xfd\\x9f\\\\\\x1c\\x08\\xb79\\x1f!\\x9e-\"\n",
      "Decrypted message (EBC): b'PC Member, 25th International Symposium on Stabilization, Safety, and Security of Distributed Systems, Crypto track'\n",
      "\n",
      "Encrypted message (CBC): b\"\\x83\\x9cc@\\xfd,\\xfe[$\\xca\\xc1\\x0e\\xab[T\\x14[\\xa0P\\xe4\\xf7\\xa6\\xe33\\xc8\\x99\\xfc\\xccA\\xd1\\x8bMkz\\x99\\x8e*\\xf3\\xc3\\xbe\\x82.$\\xad=\\\\\\x82\\xba\\x9e\\x13*\\x15\\xc5'G\\x1a\\x001\\xab<X\\xd8\\xabUe8w\\x02\\x9cv\\xfdC\\xf3\\xba\\x1b\\x1e\\x0f;\\xdb\\x88\\x91\\x8d\\x03\\xa6\\xc3r\\x8e\\x1b]cB\\xfa)\\t\\xb2UR\\xac6\\x14\\x95\\xea\\x14\\xad\\xf6A:\\xe8\\x05\\xf7\\xc6\\xe2:\\xb5\\xc2n\\n\\x9fZ\\x86\"\n",
      "Decrypted message (CBC): b'PC Member, 25th International Symposium on Stabilization, Safety, and Security of Distributed Systems, Crypto track'\n",
      "\n",
      "Encrypted message (CFB): b'\\x99\\xcb\\x06\\x1d\\xd8H?q\\xe5\\xd0\\x9e\\xe4\\x02\\xe38\\x1d)\\xf1w\\x93H5m\\x7f\\xaf\\x1egaqr\\x8e\\xea\\xdb\\xd2\\xb5\\xf8\\xe8\\xf4\\xb4\\x14\\xe2Ur-\\xc2\\xcc\\xb6\\x94\"\\xf7\\x93\\xe4%J\\x86,\"\\xe0\\x1c\\x1c\\x1a\\x19\\x9bg\\xef\\xd0<\\xa4I\\x03\\xd0\\xdc\\xa7^#\\x8bm:#\\x1dL8\\x1efK\\x12\\x11x\\xdb%YY\\xee\\x03\\x87\\xcc\\xa0\\xed;i)\\x89\\x0e\\x85\\xafd\\xaa\\xd5\\xa6z]+\\xed\\xaep'\n",
      "Decrypted message (CFB): b'PC Member, 25th International Symposium on Stabilization, Safety, and Security of Distributed Systems, Crypto track'\n",
      "\n",
      "Encrypted message (OFB): b'\\x99(>\\xa0\\x18/\\xd2\\xec]o;\\xf5N\\xc9\\xf5\\xbb?\\x887\\xe9l7~\\xa43v\\x08H\\xd7\\xd1\\xc6\\x1f\\xd4\\xd9by\\xa1l\\x12\\xb9[\\xe3X\\xe1Y\\x9e\\x03\\xc8K\\xee\\xd2c\\xbe\\x8d3\\xb0\\xc0\\xd4[~~=\\xa0\\xa5\\x13\\x86S\\xce\\xa2\"~^\\x9a\\xd7\\xca\\xedhN\\x1f\\t\\xf17V\\xfa\\x1d\\x89a\\xd7\\x05\\x0e\\x87\\xa4=\\x04\\xa1v\\xc4\\xc4\\xcci\\xc596\\xcc\\xf0\\xfdZ\\xba$\\x8a\\x1c\\xbe\\xcc\\x1dg'\n",
      "Decrypted message (OFB): b'PC Member, 25th International Symposium on Stabilization, Safety, and Security of Distributed Systems, Crypto track'\n",
      "\n"
     ]
    }
   ],
   "source": [
    "    message = 'PC Member, 25th International Symposium on Stabilization, Safety, and Security of Distributed Systems, Crypto track'\n",
    "    key = b'B20CS033'\n",
    "    iv = os.urandom(8)\n",
    "\n",
    "    # DES Encryption and Decryption\n",
    "\n",
    "    # ECB Mode\n",
    "    des_cipher = DES.new(key, DES.MODE_ECB)\n",
    "    encrypted_message_ecb = des_cipher.encrypt(pad(message.encode(), DES.block_size))\n",
    "    decrypted_message_ecb = unpad(des_cipher.decrypt(encrypted_message_ecb), DES.block_size)\n",
    "\n",
    "    # CBC Mode\n",
    "    des_cipher = DES.new(key, DES.MODE_CBC, iv)\n",
    "    encrypted_message_cbc = des_cipher.encrypt(pad(message.encode(), DES.block_size))\n",
    "    des_cipher = DES.new(key, DES.MODE_CBC, iv)\n",
    "    decrypted_message_cbc = unpad(des_cipher.decrypt(encrypted_message_cbc), DES.block_size)\n",
    "\n",
    "    # CFB Mode\n",
    "    des_cipher = DES.new(key, DES.MODE_CFB, iv)\n",
    "    encrypted_message_cfb = des_cipher.encrypt(message.encode())\n",
    "    des_cipher = DES.new(key, DES.MODE_CFB, iv)\n",
    "    decrypted_message_cfb = des_cipher.decrypt(encrypted_message_cfb)\n",
    "\n",
    "    # OFB Mode\n",
    "    des_cipher = DES.new(key, DES.MODE_OFB, iv)\n",
    "    encrypted_message_ofb = des_cipher.encrypt(message.encode())\n",
    "    des_cipher = DES.new(key, DES.MODE_OFB, iv)\n",
    "    decrypted_message_ofb = des_cipher.decrypt(encrypted_message_ofb)\n",
    "\n",
    "    print(f\"Original message: {message}\\n\")\n",
    "    print('DES Encryption and Decryption\\n\\n')\n",
    "\n",
    "    print(f\"Encrypted message (EBC): {encrypted_message_ecb}\")\n",
    "    print(f\"Decrypted message (EBC): {decrypted_message_ecb}\\n\")\n",
    "\n",
    "    print(f\"Encrypted message (CBC): {encrypted_message_cbc}\")\n",
    "    print(f\"Decrypted message (CBC): {decrypted_message_cbc}\\n\")\n",
    "\n",
    "    print(f\"Encrypted message (CFB): {encrypted_message_cfb}\")\n",
    "    print(f\"Decrypted message (CFB): {decrypted_message_cfb}\\n\")\n",
    "\n",
    "    print(f\"Encrypted message (OFB): {encrypted_message_ofb}\")\n",
    "    print(f\"Decrypted message (OFB): {decrypted_message_ofb}\\n\")"
   ]
  },
  {
   "cell_type": "code",
   "execution_count": 58,
   "metadata": {},
   "outputs": [
    {
     "name": "stdout",
     "output_type": "stream",
     "text": [
      "Original message: PC Member, 25th International Symposium on Stabilization, Safety, and Security of Distributed Systems, Crypto track\n",
      "\n",
      "AES Encryption and Decryption\n",
      "\n",
      "\n",
      "Encrypted message (ECB): b'm\\x8b\\xe8\\x83\\tj\\xa1\" /\\xac\\xa6\\xbd%<\\xac\\xd79\\xe3\\x15\\xe2\\xe8i{\\xaf\\xef\\x82\\x848\\x07\\x92z\\xd9\\xee\\xe8w\\xbf\\xba\\\\\"\\xd7t\\x11a\\x9d\\xfd\\x05\\x8c\\x83\\x8cw\\xd9\\x89&4\\x0c}\\\\QX\\xf0\\xa1-.M\\x0e\\xbd\\xce\\xd9\\xed6\\x1dds\\xa9.\\xf6\\xd3\\xa1\\xcb\\xd5)k83\\x98\\xea\"]\\x1f\\xf0A\\xe3\\xb4\\xdf\\xf4\\xf4\\xd8\\xa2R?6\\xb9\\'*r\\x85{=+\\xbe\\x11\\x0b\\x86\\xfd;\\n&\\xfbDwk0)\\xdb\\x8c\\x11Y'\n",
      "Decrypted message (ECB): b'PC Member, 25th International Symposium on Stabilization, Safety, and Security of Distributed Systems, Crypto track'\n",
      "\n",
      "Encrypted message (CBC): b'\\xa5@\\xcb\\xfegA\\x87\\x0e\\xc1\\xe6\"Gv\\x8e\\x9d\\x7f\\xf13%\\x8d\\xfd\\x83\\x8e\\x92\\x98\\xce\\xcb\\xa6\\x8b\\xf6\\x95\\x7f\\xee\\\\\\x98\\xdb\\x1f\\xd5\\xb9\"\\x95fZ\\xd3Q\\n3\"\\xa7\\xf1\\\\sY\\xa4\\xcc\\xc1\\xc0S3\\xbb2\\x899>\\x9d=\\x9cd\\x99\\xe8\\x15k\\xc4\\x13\\x00?\\xd2:0!\\xd3\\xd0*\\x19J\\xb4x/E\\x05<\\x05\\x80\\xbf\\x80*tf\\xbb\\xb0\\x01\\xe7\\xd11`\\xa6\\x1d\\xc0X\\x11\\x07\\xd1\\xb7\\xd8\\x9f?(8\\xd3\\x18\\xda\\x0eC|\\x87n\\xc1)'\n",
      "Decrypted message (CBC): b'PC Member, 25th International Symposium on Stabilization, Safety, and Security of Distributed Systems, Crypto track'\n",
      "\n",
      "Encrypted message (CFB): b\"\\xcf\\xd6\\x1b_\\xd0\\xe9\\x05k_\\xa6\\x8c'\\xa1\\x98\\xaf\\xa3\\xbe\\x15\\xbf,q\\x96@\\xbf\\xd9w(`^\\x03t\\xfc\\x94\\x86\\x8c1\\x170\\xa8\\x00\\x1bD\\xce5\\xc5z4\\x87\\xe9\\x03\\xbbX\\xda[\\xb9\\x96e\\x12\\xe9\\x06\\x00\\xc80\\xce~\\xb3:\\x1a\\\\\\xb9\\xdc\\xc2^\\x9b+\\xd9w<\\x86Em\\xa5\\x94b\\xf8\\xbf^\\xb0\\xbb\\x1f\\xa8\\xddz\\xf7\\x93~\\x06\\x11\\xbea\\x8b\\x1e\\x92u\\x97\\x0e\\xae\\x95\\xb5\\n\\x1c\\xc7\\xf9Ht\"\n",
      "Decrypted message (CFB): b'PC Member, 25th International Symposium on Stabilization, Safety, and Security of Distributed Systems, Crypto track'\n",
      "\n",
      "Encrypted message (OFB): b'\\xcf\\xa3\\x1f\\xe6\\x08\\x92\\xaf\\xd1^\\xb1\\xef\\xea\\xd0}\\xe58N\\xce\\x11\\xc8J\\xe4\\xa5\\x1f\\xf6Po\\x8e\\xd1\\x02l\\x1a\\x0e\\x90\\xd7j\\x8cV\\xe1\\xcay\\xd3_\\xa6\\x03C\\xbe\\xbdf\\x93bD\\xac\\xd1\\xec.\\x1a\\xd0^P\\x12*}_\\x0e\\xae\\xf6\\x87\\xf4\\x13x\\x93\\xcf\\x8fL\\x05\\x1f\\xbbU$\\xb5\\xbb\\x9f\\xa5:\\xdb\\x1ep\\xdc\\x85f02L\\x99J<]\\x8e\\x06W\\xec\\x9e\\xc29\\xf5\\xb0\\x87\\x82\\xcc\\xc7\\x8c\\xda\\x9bL'\n",
      "Decrypted message (OFB): b'PC Member, 25th International Symposium on Stabilization, Safety, and Security of Distributed Systems, Crypto track'\n",
      "\n"
     ]
    }
   ],
   "source": [
    "# AES Encryption and Decryption\n",
    "\n",
    "key = b'B20CS033YASH0000'\n",
    "iv = os.urandom(16)\n",
    "\n",
    "# ECB Mode\n",
    "aes_cipher = AES.new(key, AES.MODE_ECB)\n",
    "encrypted_message_aes_ecb = aes_cipher.encrypt(pad(message.encode(), AES.block_size))\n",
    "decrypted_message_aes_ecb = unpad(aes_cipher.decrypt(encrypted_message_aes_ecb), AES.block_size)\n",
    "\n",
    "# CBC Mode\n",
    "aes_cipher = AES.new(key, AES.MODE_CBC, iv)\n",
    "encrypted_message_aes_cbc = aes_cipher.encrypt(pad(message.encode(), AES.block_size))\n",
    "aes_cipher = AES.new(key, AES.MODE_CBC, iv)\n",
    "decrypted_message_aes_cbc = unpad(aes_cipher.decrypt(encrypted_message_aes_cbc), AES.block_size)\n",
    "\n",
    "# CFB Mode\n",
    "aes_cipher = AES.new(key, AES.MODE_CFB, iv)\n",
    "encrypted_message_aes_cfb = aes_cipher.encrypt(message.encode())\n",
    "aes_cipher = AES.new(key, AES.MODE_CFB, iv)\n",
    "decrypted_message_aes_cfb = aes_cipher.decrypt(encrypted_message_aes_cfb)\n",
    "\n",
    "# OFB Mode\n",
    "aes_cipher = AES.new(key, AES.MODE_OFB, iv)\n",
    "encrypted_message_aes_ofb = aes_cipher.encrypt(message.encode())\n",
    "aes_cipher = AES.new(key, AES.MODE_OFB, iv)\n",
    "decrypted_message_aes_ofb = aes_cipher.decrypt(encrypted_message_aes_ofb)\n",
    "\n",
    "print(f\"Original message: {message}\\n\")\n",
    "print('AES Encryption and Decryption\\n\\n')\n",
    "\n",
    "print(f\"Encrypted message (ECB): {encrypted_message_aes_ecb}\")\n",
    "print(f\"Decrypted message (ECB): {decrypted_message_aes_ecb}\\n\")\n",
    "\n",
    "print(f\"Encrypted message (CBC): {encrypted_message_aes_cbc}\")\n",
    "print(f\"Decrypted message (CBC): {decrypted_message_aes_cbc}\\n\")\n",
    "\n",
    "print(f\"Encrypted message (CFB): {encrypted_message_aes_cfb}\")\n",
    "print(f\"Decrypted message (CFB): {decrypted_message_aes_cfb}\\n\")\n",
    "\n",
    "print(f\"Encrypted message (OFB): {encrypted_message_aes_ofb}\")\n",
    "print(f\"Decrypted message (OFB): {decrypted_message_aes_ofb}\\n\")"
   ]
  },
  {
   "cell_type": "markdown",
   "metadata": {},
   "source": [
    "### **Part2 [4 marks]:**\n",
    "\n",
    "Perform Diffie-Hellman key exchange between a client and server to share a secret key. Using\n",
    "this secret key, encrypt the message at the server side and send it to the client. Decrypt the\n",
    "message at client side using the same key."
   ]
  },
  {
   "cell_type": "code",
   "execution_count": null,
   "metadata": {},
   "outputs": [],
   "source": [
    "# need to write in python as 2 scripts are to be run concurrently\n",
    "# refer to server.py and client.py"
   ]
  },
  {
   "cell_type": "markdown",
   "metadata": {},
   "source": [
    "### **Part3 [2 marks] - Image Encryption Decryption:**\n",
    "\n",
    "Perform Encryption and Decryption of the provided Image using any two modes of AES. Also\n",
    "compare the encrypted image in both the cases (anytype of comparison will suffice)."
   ]
  },
  {
   "cell_type": "code",
   "execution_count": 65,
   "metadata": {},
   "outputs": [
    {
     "name": "stdout",
     "output_type": "stream",
     "text": [
      "Both Decrypted Image using ECB mode of AES and Original Image are equal : True\n",
      "Both Decrypted Image using CBC mode of AES and Original Image are equal : True\n"
     ]
    }
   ],
   "source": [
    "# Load the image and convert it into a numpy array\n",
    "img = Image.open('./Lab3_image.jpg')\n",
    "img_array = np.array(img)\n",
    "\n",
    "key = get_random_bytes(16)\n",
    "iv = get_random_bytes(16)\n",
    "\n",
    "cipher_cbc = AES.new(key, AES.MODE_CBC, iv)\n",
    "encrypted_img_cbc = cipher_cbc.encrypt(pad(img_array.tobytes(), AES.block_size))\n",
    "cipher_ecb = AES.new(key, AES.MODE_ECB)\n",
    "encrypted_img_ecb = cipher_ecb.encrypt(pad(img_array.tobytes(), AES.block_size))\n",
    "\n",
    "Image.frombytes(img.mode, img.size, encrypted_img_cbc).save('encrypted_cbc.jpg')\n",
    "Image.frombytes(img.mode, img.size, encrypted_img_ecb).save('encrypted_ecb.jpg')\n",
    "\n",
    "cipher_cbc = AES.new(key, AES.MODE_CBC, iv)\n",
    "decrypted_img_cbc = unpad(cipher_cbc.decrypt(encrypted_img_cbc), AES.block_size)\n",
    "Image.frombytes(img.mode, img.size, decrypted_img_cbc).save('decrypted_cbc.jpg')\n",
    "\n",
    "decrypted_img_ecb = unpad(cipher_ecb.decrypt(encrypted_img_ecb), AES.block_size)\n",
    "Image.frombytes(img.mode, img.size, decrypted_img_ecb).save('decrypted_ecb.jpg')\n",
    "\n",
    "flag1 = np.array_equal(img_array, np.frombuffer(decrypted_img_ecb, dtype=np.uint8).reshape(img_array.shape))\n",
    "print(f\"Both Decrypted Image using ECB mode of AES and Original Image are equal : {flag1}\")\n",
    "\n",
    "flag2 = np.array_equal(img_array, np.frombuffer(decrypted_img_cbc, dtype=np.uint8).reshape(img_array.shape))\n",
    "print(f\"Both Decrypted Image using CBC mode of AES and Original Image are equal : {flag2}\")\n"
   ]
  }
 ],
 "metadata": {
  "kernelspec": {
   "display_name": "Python 3.9.1 64-bit",
   "language": "python",
   "name": "python3"
  },
  "language_info": {
   "name": "python",
   "version": "3.9.1"
  },
  "orig_nbformat": 4,
  "vscode": {
   "interpreter": {
    "hash": "c3a0e1ed7a67280133f8ade5886c8db9f663bbe0c0db84aba701ac80290ec8d2"
   }
  }
 },
 "nbformat": 4,
 "nbformat_minor": 2
}
