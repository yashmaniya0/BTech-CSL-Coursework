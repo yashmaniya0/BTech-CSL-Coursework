{
  "cells": [
    {
      "cell_type": "markdown",
      "metadata": {},
      "source": [
        "## **OML Lab Assignment 4**"
      ]
    },
    {
      "cell_type": "code",
      "execution_count": 15,
      "metadata": {
        "id": "2LdnLLb3EF-k"
      },
      "outputs": [],
      "source": [
        "import numpy as np\n",
        "import pandas as pd\n",
        "import cvxopt as cp"
      ]
    },
    {
      "cell_type": "markdown",
      "metadata": {
        "id": "0Z0akgKbSJI1"
      },
      "source": [
        "### **Question 1**"
      ]
    },
    {
      "cell_type": "code",
      "execution_count": 16,
      "metadata": {
        "colab": {
          "base_uri": "https://localhost:8080/"
        },
        "id": "nVDfd8zNRaJ5",
        "outputId": "f8c7c147-8773-4cdc-b1da-75f063b3c720"
      },
      "outputs": [
        {
          "name": "stdout",
          "output_type": "stream",
          "text": [
            "     pcost       dcost       gap    pres   dres   k/t\n",
            " 0:  6.4448e+00  1.0412e+01  1e+01  5e-01  1e+01  1e+00\n",
            " 1:  7.8205e+00  1.0454e+01  7e+00  2e-01  5e+00  2e+00\n",
            " 2:  1.0144e+01  1.0662e+01  1e+00  2e-02  6e-01  4e-01\n",
            " 3:  1.0199e+01  1.0205e+01  1e-02  3e-04  7e-03  4e-03\n",
            " 4:  1.0200e+01  1.0200e+01  1e-04  3e-06  7e-05  4e-05\n",
            " 5:  1.0200e+01  1.0200e+01  1e-06  3e-08  7e-07  4e-07\n",
            " 6:  1.0200e+01  1.0200e+01  1e-08  3e-10  7e-09  4e-09\n",
            "Optimal solution found.\n",
            "[ 6.00e-01]\n",
            "[ 1.20e+00]\n",
            "[ 1.02e+01]\n",
            "\n",
            "10.19999999944422\n"
          ]
        }
      ],
      "source": [
        "A = np.array([[5,2,-1],[3,7,-1],[1,2,0],[-4,-3,0],[3,1,0],[-3,-1,0]])\n",
        "B = np.array([[0],[0],[3],[-6],[3],[-3]])\n",
        "\n",
        "# constraints = [cp.matmul(A, x) <= B,  x>=0]\n",
        "c = np.array([0,0,1])\n",
        "sol = cp.solvers.lp(cp.matrix(c,tc='d'),cp.matrix(A,tc='d'),cp.matrix(B,tc='d'))\n",
        "\n",
        "print(sol['x'])\n",
        "print(sol['primal objective'])"
      ]
    },
    {
      "cell_type": "markdown",
      "metadata": {
        "id": "VBlct9jNSLWC"
      },
      "source": [
        "### **Question 2**"
      ]
    },
    {
      "cell_type": "code",
      "execution_count": 23,
      "metadata": {},
      "outputs": [
        {
          "name": "stdout",
          "output_type": "stream",
          "text": [
            "[1.00000000e+00 5.00000000e+00 6.39790277e-12 2.00000000e+00\n",
            " 1.94803088e-13 3.96190268e-12 2.01921707e-12 3.17744290e-13\n",
            " 5.00000000e+00 7.00000000e+00 6.00000000e+00 9.61852703e-13\n",
            " 8.00000000e+00 2.04221389e-12 1.21160152e-12]\n",
            "\n",
            "102.99999999996622\n"
          ]
        },
        {
          "name": "stderr",
          "output_type": "stream",
          "text": [
            "C:\\Users\\YASH MANIYA\\AppData\\Local\\Temp\\ipykernel_16304\\1097294233.py:19: OptimizeWarning: A_eq does not appear to be of full row rank. To improve performance, check the problem formulation for redundant equality constraints.\n",
            "  soln = linprog(c, A_eq = A, b_eq = b);\n"
          ]
        }
      ],
      "source": [
        "c = np.array([4, 2, 3, 2, 6, 5, 4, 5, 2, 1, 6, 5, 4, 7, 7])\n",
        "c = c.reshape((len(c), 1))\n",
        "\n",
        "m, n = 3, 5\n",
        "\n",
        "A = np.zeros((m + n, m * n))\n",
        "\n",
        "for i in range(m):\n",
        "    A[i, i * n : (i + 1) * n] = 1\n",
        "\n",
        "for i in range(m):\n",
        "    A[m : m + n, i * n : (i + 1) * n] = np.identity(n)\n",
        "\n",
        "b = np.array([8, 12, 14, 7, 5, 8, 7, 7])\n",
        "\n",
        "import numpy as np\n",
        "from scipy.optimize import linprog\n",
        "\n",
        "soln = linprog(c, A_eq = A, b_eq = b);\n",
        "\n",
        "print(soln.x)\n",
        "print()\n",
        "print(soln.fun)"
      ]
    },
    {
      "cell_type": "markdown",
      "metadata": {},
      "source": [
        "### **Question 3**"
      ]
    },
    {
      "cell_type": "markdown",
      "metadata": {
        "id": "TIjC5P0KSelm"
      },
      "source": [
        "We have to minimize : 2*x12+3*x13+3*x15+2*x23+4*x24+1*x34+2*x35+3*x46+1*x56 so that,\n",
        "\n",
        "*  x12+x13+x15=1 (node 1)\n",
        "*  x12-x24-x23=-3 (node 2)\n",
        "*  x13+x23-x34-x35=0 (node 3)\n",
        "*  x24+x34-x46=0 (node 4)\n",
        "*  x15+x35-x56=0 (node 5)\n",
        "*  x46+x56=4 (node 6)\n",
        "\n",
        "xij>=0\n"
      ]
    },
    {
      "cell_type": "code",
      "execution_count": 18,
      "metadata": {
        "colab": {
          "base_uri": "https://localhost:8080/"
        },
        "id": "PJkIItMYRqNI",
        "outputId": "4ed99eef-2a1f-439c-f33b-5a7476faff5b"
      },
      "outputs": [
        {
          "name": "stdout",
          "output_type": "stream",
          "text": [
            "[ 0.00e+00]\n",
            "[ 0.00e+00]\n",
            "[ 1.00e+00]\n",
            "[ 3.00e+00]\n",
            "[ 0.00e+00]\n",
            "[ 0.00e+00]\n",
            "[ 3.00e+00]\n",
            "[ 0.00e+00]\n",
            "[ 4.00e+00]\n",
            "\n",
            "19.0\n"
          ]
        }
      ],
      "source": [
        "c=np.array([[2],[3],[3],[2],[4],[1],[2],[3],[1]])\n",
        "G=-np.eye(9)\n",
        "\n",
        "A=np.array([[1,1,1,0,0,0,0,0,0],\n",
        "            [1,0,0,-1,-1,0,0,0,0],\n",
        "            [0,1,0,1,0,-1,-1,0,0],\n",
        "            [0,0,0,0,1,1,0,-1,0],\n",
        "            [0,0,1,0,0,0,1,0,-1],\n",
        "            [0,0,0,0,0,0,0,1,1]])\n",
        "\n",
        "h=np.zeros(9)\n",
        "b=np.array([[1],[-3],[0],[0],[0],[4]])\n",
        "\n",
        "sol=cp.solvers.lp(cp.matrix(c, tc='d'),cp.matrix(G, tc='d'), cp.matrix(h, tc='d'), cp.matrix(A,tc='d'), cp.matrix(b,tc='d'),solver='glpk')\n",
        "\n",
        "print(sol['x'])\n",
        "print(sol['primal objective'])\n"
      ]
    },
    {
      "cell_type": "markdown",
      "metadata": {
        "id": "-YRdg5WRbb_S"
      },
      "source": [
        "### **Question 4**"
      ]
    },
    {
      "cell_type": "code",
      "execution_count": 19,
      "metadata": {
        "colab": {
          "base_uri": "https://localhost:8080/"
        },
        "id": "dzvncn_Cban1",
        "outputId": "ded808bd-bfce-4b5a-be19-b3c44a09505e"
      },
      "outputs": [
        {
          "name": "stdout",
          "output_type": "stream",
          "text": [
            "[ 1.00e+00]\n",
            "[ 1.00e+00]\n",
            "[ 2.00e+00]\n",
            "[ 1.00e+00]\n",
            "[ 1.00e+00]\n",
            "\n",
            "14.0\n"
          ]
        }
      ],
      "source": [
        "c=np.array([[1.0],[5.0],[1.0],[2.0],[4.0]])\n",
        "A=np.array([[1,1,0,0,0],\n",
        "            [0,-1,-1,1,0],\n",
        "            [-1,0,1,0,1],\n",
        "            [0,0,0,-1,-1],\n",
        "            [1,0,0,0,0],\n",
        "            [0,1,0,0,0],\n",
        "            [0,0,1,0,0],\n",
        "            [0,0,0,1,0],\n",
        "            [0,0,0,0,1],\n",
        "            [-1,0,0,0,0],\n",
        "            [0,-1,0,0,0],\n",
        "            [0,0,-1,0,0],\n",
        "            [0,0,0,-1,0],\n",
        "            [0,0,0,0,-1]])\n",
        "b=np.array([[2],[-2],[2],[-2],[1],[3],[2],[3],[2],[0],[0],[0],[0],[0]])\n",
        "sol =cp.solvers.lp(cp.matrix(c,tc='d'), cp.matrix(A,tc='d'),cp.matrix(b,tc='d'),solver='glpk')\n",
        "\n",
        "print(sol['x'])\n",
        "print(sol['primal objective'])"
      ]
    },
    {
      "cell_type": "markdown",
      "metadata": {},
      "source": [
        "### **Question 5**"
      ]
    },
    {
      "cell_type": "code",
      "execution_count": 20,
      "metadata": {
        "colab": {
          "base_uri": "https://localhost:8080/"
        },
        "id": "I1zZEpNufgq9",
        "outputId": "5b082580-5524-45dc-b16e-c07f52419dad"
      },
      "outputs": [
        {
          "name": "stdout",
          "output_type": "stream",
          "text": [
            "[ 0.00e+00]\n",
            "[ 1.00e+00]\n",
            "[ 0.00e+00]\n",
            "[ 0.00e+00]\n",
            "[ 0.00e+00]\n",
            "[ 0.00e+00]\n",
            "[ 0.00e+00]\n",
            "[ 1.00e+00]\n",
            "[ 0.00e+00]\n",
            "[ 0.00e+00]\n",
            "[ 0.00e+00]\n",
            "[ 0.00e+00]\n",
            "[ 0.00e+00]\n",
            "[ 0.00e+00]\n",
            "[ 1.00e+00]\n",
            "[ 0.00e+00]\n",
            "[ 0.00e+00]\n",
            "[ 0.00e+00]\n",
            "[ 1.00e+00]\n",
            "[ 0.00e+00]\n",
            "\n",
            "23.0\n"
          ]
        }
      ],
      "source": [
        "c=np.array([[4.0],[6.0],[6.0],[6.0],[8.0],[9.0],[5.0],[4.0],[6.0],[5.0],[5.0],[7.0],[6.0],[8.0],[4.0],[9.0],[3.0],[7.0],[9.0],[6.0]])\n",
        "\n",
        "G=-np.eye(20)\n",
        "\n",
        "A=np.array([[1,1,1,0,0,0,0,0,0,0,0,0,0,0,0,0,0,0,0,0],\n",
        "            [-1,0,0,1,1,1,0,0,0,0,0,0,0,0,0,0,0,0,0,0],\n",
        "            [0,-1,0,0,0,0,1,1,1,0,0,0,0,0,0,0,0,0,0,0],\n",
        "            [0,0,-1,0,0,0,0,0,0,1,1,1,0,0,0,0,0,0,0,0],\n",
        "            [0,0,0,-1,0,0,-1,0,0,-1,0,0,1,1,0,0,0,0,0,0],\n",
        "            [0,0,0,0,-1,0,0,-1,0,0,-1,0,0,0,1,1,0,0,0,0],\n",
        "            [0,0,0,0,0,-1,0,0,-1,0,0,-1,0,0,0,0,1,1,0,0],\n",
        "            [0,0,0,0,0,0,0,0,0,0,0,0,-1,0,-1,0,-1,0,1,0],\n",
        "            [0,0,0,0,0,0,0,0,0,0,0,0,0,-1,0,-1,0,-1,0,1],\n",
        "            [0,0,0,0,0,0,0,0,0,0,0,0,0,0,0,0,0,0,-1,-1]])\n",
        "\n",
        "h=np.zeros(20)\n",
        "b=np.array([[1],[0],[0],[0],[0],[0],[0],[0],[0],[-1]])\n",
        "\n",
        "\n",
        "sol=cp.solvers.lp(cp.matrix(c, tc='d'),cp.matrix(G, tc='d'), cp.matrix(h, tc='d'), cp.matrix(A,tc='d'), cp.matrix(b,tc='d'),solver='glpk')\n",
        "\n",
        "print(sol['x'])\n",
        "print(sol['primal objective'])\n"
      ]
    },
    {
      "cell_type": "markdown",
      "metadata": {
        "id": "N84z7ieOfch8"
      },
      "source": [
        "### **Question 6**"
      ]
    },
    {
      "cell_type": "code",
      "execution_count": 21,
      "metadata": {
        "colab": {
          "base_uri": "https://localhost:8080/"
        },
        "id": "C53HhRDPa3A6",
        "outputId": "31ab25ac-5d5b-4c97-de3e-204184ca09d4"
      },
      "outputs": [
        {
          "name": "stdout",
          "output_type": "stream",
          "text": [
            "[ 0.00e+00]\n",
            "[ 0.00e+00]\n",
            "[ 1.00e+00]\n",
            "[ 0.00e+00]\n",
            "[ 1.00e+00]\n",
            "[ 0.00e+00]\n",
            "[ 0.00e+00]\n",
            "[ 0.00e+00]\n",
            "[ 0.00e+00]\n",
            "[ 1.00e+00]\n",
            "[ 0.00e+00]\n",
            "[ 0.00e+00]\n",
            "[ 0.00e+00]\n",
            "[ 0.00e+00]\n",
            "[ 0.00e+00]\n",
            "[ 1.00e+00]\n",
            "\n",
            "67.0\n"
          ]
        }
      ],
      "source": [
        "c=np.array([[20.0],[28.0],[19.0],[13.0],\n",
        "            [15.0],[30.0],[31.0],[28.0],\n",
        "            [40.0],[21.0],[20.0],[17.0],\n",
        "            [21.0],[28.0],[26.0],[12.0]])\n",
        "\n",
        "A=-np.eye(16)\n",
        "b=np.zeros(16)\n",
        "\n",
        "Aeq=np.array([[1,1,1,1,0,0,0,0,0,0,0,0,0,0,0,0],\n",
        "              [0,0,0,0,1,1,1,1,0,0,0,0,0,0,0,0],\n",
        "              [0,0,0,0,0,0,0,0,1,1,1,1,0,0,0,0],\n",
        "              [0,0,0,0,0,0,0,0,0,0,0,0,1,1,1,1],\n",
        "              [1,0,0,0,1,0,0,0,1,0,0,0,1,0,0,0],\n",
        "              [0,1,0,0,0,1,0,0,0,1,0,0,0,1,0,0],\n",
        "              [0,0,1,0,0,0,1,0,0,0,1,0,0,0,1,0],\n",
        "              [0,0,0,1,0,0,0,1,0,0,0,1,0,0,0,1]])\n",
        "\n",
        "\n",
        "beq=np.array([[1],[1],[1],[1],[1],[1],[1],[1]])\n",
        "\n",
        "sol = cp.solvers.lp(cp.matrix(c,tc='d'),cp.matrix(A,tc='d'),\n",
        "cp.matrix(b,tc='d'),cp.matrix(Aeq,tc='d'),\n",
        "cp.matrix(beq,tc='d'),solver='glpk')\n",
        "\n",
        "print(sol['x'])\n",
        "print(sol['primal objective'])\n"
      ]
    },
    {
      "cell_type": "markdown",
      "metadata": {
        "id": "Beg38uB9hLTa"
      },
      "source": [
        "### **Question 7**"
      ]
    },
    {
      "cell_type": "code",
      "execution_count": 22,
      "metadata": {
        "id": "U1mcG7hphIRZ"
      },
      "outputs": [
        {
          "name": "stdout",
          "output_type": "stream",
          "text": [
            "[ 0.00e+00]\n",
            "[ 0.00e+00]\n",
            "[ 1.00e+00]\n",
            "[ 0.00e+00]\n",
            "[ 0.00e+00]\n",
            "[ 0.00e+00]\n",
            "[ 0.00e+00]\n",
            "[ 0.00e+00]\n",
            "[ 1.00e+00]\n",
            "[ 0.00e+00]\n",
            "[ 0.00e+00]\n",
            "[ 1.00e+00]\n",
            "[ 0.00e+00]\n",
            "[ 0.00e+00]\n",
            "[ 0.00e+00]\n",
            "[ 1.00e+00]\n",
            "[ 0.00e+00]\n",
            "[ 0.00e+00]\n",
            "[ 0.00e+00]\n",
            "[ 0.00e+00]\n",
            "[ 0.00e+00]\n",
            "[ 0.00e+00]\n",
            "[ 0.00e+00]\n",
            "[ 0.00e+00]\n",
            "[ 1.00e+00]\n",
            "\n",
            "126.2\n"
          ]
        }
      ],
      "source": [
        "c=np.array([[37.7],[32.9],[33.8],[37.0],[35.4],\n",
        "            [43.4],[33.1],[42.2],[34.7],[41.8],\n",
        "            [33.3],[28.5],[38.9],[30.4],[33.6],\n",
        "            [29.2],[26.4],[29.6],[28.5],[31.1],\n",
        "            [0.0],[0.0],[0.0],[0.0],[0.0]])\n",
        "\n",
        "A=-np.eye(25)\n",
        "b=np.zeros(25)\n",
        "\n",
        "Aeq=np.array([[1,1,1,1,1,0,0,0,0,0,0,0,0,0,0,0,0,0,0,0,0,0,0,0,0],\n",
        "              [0,0,0,0,0,1,1,1,1,1,0,0,0,0,0,0,0,0,0,0,0,0,0,0,0],\n",
        "              [0,0,0,0,0,0,0,0,0,0,1,1,1,1,1,0,0,0,0,0,0,0,0,0,0],\n",
        "              [0,0,0,0,0,0,0,0,0,0,0,0,0,0,0,1,1,1,1,1,0,0,0,0,0],\n",
        "              [0,0,0,0,0,0,0,0,0,0,0,0,0,0,0,0,0,0,0,0,1,1,1,1,1],\n",
        "              [1,0,0,0,0,1,0,0,0,0,1,0,0,0,0,1,0,0,0,0,1,0,0,0,0],\n",
        "              [0,1,0,0,0,0,1,0,0,0,0,1,0,0,0,0,1,0,0,0,0,1,0,0,0],\n",
        "              [0,0,1,0,0,0,0,1,0,0,0,0,1,0,0,0,0,1,0,0,0,0,1,0,0],\n",
        "              [0,0,0,1,0,0,0,0,1,0,0,0,0,1,0,0,0,0,1,0,0,0,0,1,0],\n",
        "              [0,0,0,0,1,0,0,0,0,1,0,0,0,0,1,0,0,0,0,1,0,0,0,0,1]])\n",
        "\n",
        "beq=np.array([[1],[1],[1],[1],[1],[1],[1],[1],[1],[1]])\n",
        "\n",
        "sol = cp.solvers.lp(cp.matrix(c,tc='d'),cp.matrix(A,tc='d'),\n",
        "cp.matrix(b,tc='d'),cp.matrix(Aeq,tc='d'),\n",
        "cp.matrix(beq,tc='d'),solver='glpk')\n",
        "\n",
        "print(sol['x'])\n",
        "print(sol['primal objective'])\n"
      ]
    }
  ],
  "metadata": {
    "colab": {
      "provenance": []
    },
    "kernelspec": {
      "display_name": "Python 3.9.13 64-bit",
      "language": "python",
      "name": "python3"
    },
    "language_info": {
      "codemirror_mode": {
        "name": "ipython",
        "version": 3
      },
      "file_extension": ".py",
      "mimetype": "text/x-python",
      "name": "python",
      "nbconvert_exporter": "python",
      "pygments_lexer": "ipython3",
      "version": "3.9.13"
    },
    "vscode": {
      "interpreter": {
        "hash": "c3a0e1ed7a67280133f8ade5886c8db9f663bbe0c0db84aba701ac80290ec8d2"
      }
    }
  },
  "nbformat": 4,
  "nbformat_minor": 0
}
