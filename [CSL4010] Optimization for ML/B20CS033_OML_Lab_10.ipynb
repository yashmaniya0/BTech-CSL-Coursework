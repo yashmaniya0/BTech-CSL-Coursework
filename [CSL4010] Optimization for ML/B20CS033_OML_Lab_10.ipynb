{
 "cells": [
  {
   "cell_type": "markdown",
   "metadata": {},
   "source": [
    "# **OML Assignment 10**\n",
    "### B20CS033"
   ]
  },
  {
   "cell_type": "code",
   "execution_count": null,
   "metadata": {},
   "outputs": [],
   "source": [
    "import numpy as np\n",
    "import pandas as pd\n",
    "from sklearn import preprocessing\n"
   ]
  },
  {
   "cell_type": "markdown",
   "metadata": {},
   "source": [
    "### Q1. SVM - Primal, Dual"
   ]
  },
  {
   "cell_type": "code",
   "execution_count": 1,
   "metadata": {},
   "outputs": [],
   "source": [
    "def linear_kernel(x1, x2):\n",
    "    return np.dot(x1, x2)\n",
    "\n",
    "def svm_primal(X, y, C=1.0, learning_rate=0.01, epochs=1000):\n",
    "    m, n = X.shape\n",
    "    theta = np.zeros(n)\n",
    "    bias = 0\n",
    "\n",
    "    for epoch in range(epochs):\n",
    "        for i in range(m):\n",
    "            if y[i] * (np.dot(theta, X[i]) + bias) >= 1:\n",
    "                theta -= learning_rate * (2 * C * theta)\n",
    "            else:\n",
    "                theta -= learning_rate * (2 * C * theta - np.dot(X[i], y[i]))\n",
    "                bias -= learning_rate * y[i]\n",
    "\n",
    "    return theta, bias"
   ]
  },
  {
   "cell_type": "code",
   "execution_count": 2,
   "metadata": {},
   "outputs": [],
   "source": [
    "def svm_dual(X, y, C=1.0, learning_rate=0.01, epochs=1000):\n",
    "    m, n = X.shape\n",
    "    alpha = np.zeros(m)\n",
    "\n",
    "    for epoch in range(epochs):\n",
    "        for i in range(m):\n",
    "            gradient = 0\n",
    "            for j in range(m):\n",
    "                gradient += alpha[j] * y[i] * y[j] * linear_kernel(X[i], X[j])\n",
    "\n",
    "            if 1 - gradient * y[i] >= 0:\n",
    "                alpha[i] += learning_rate\n",
    "            else:\n",
    "                alpha[i] -= learning_rate\n",
    "\n",
    "    # Compute theta and bias from alpha\n",
    "    theta = np.sum(alpha[i] * y[i] * X[i] for i in range(m))\n",
    "    bias = np.mean(y - np.dot(X, theta))\n",
    "\n",
    "    return theta, bias"
   ]
  },
  {
   "cell_type": "markdown",
   "metadata": {},
   "source": [
    "### 4ColumnDataset"
   ]
  },
  {
   "cell_type": "code",
   "execution_count": 6,
   "metadata": {},
   "outputs": [],
   "source": [
    "df = pd.read_csv(\"4ColumnDataset(3).csv\")\n",
    "X = df.drop(\"target\", axis=1).values\n",
    "y = df[\"target\"].values"
   ]
  },
  {
   "cell_type": "code",
   "execution_count": 10,
   "metadata": {},
   "outputs": [
    {
     "name": "stdout",
     "output_type": "stream",
     "text": [
      "Theta for primal of SVM is [ 0.51437567  0.15972682 -0.15840418 -0.2238032 ]\n",
      "Theta for dual of SVM is [  -83.77069761 -2726.01963201 -3066.24031772  3332.02759515]\n"
     ]
    },
    {
     "name": "stderr",
     "output_type": "stream",
     "text": [
      "/tmp/ipykernel_108680/2952894441.py:17: DeprecationWarning: Calling np.sum(generator) is deprecated, and in the future will give a different result. Use np.sum(np.fromiter(generator)) or the python sum builtin instead.\n",
      "  theta = np.sum(alpha[i] * y[i] * X[i] for i in range(m))\n"
     ]
    }
   ],
   "source": [
    "theta_primal, bias_primal = svm_primal(X, y)\n",
    "print(f\"Theta for primal of SVM is {theta_primal}\")\n",
    "\n",
    "theta_dual, bias_dual = svm_dual(X, y)\n",
    "print(f\"Theta for dual of SVM is {theta_dual}\")"
   ]
  },
  {
   "cell_type": "markdown",
   "metadata": {},
   "source": [
    "### Generated_test"
   ]
  },
  {
   "cell_type": "code",
   "execution_count": 24,
   "metadata": {},
   "outputs": [],
   "source": [
    "df = pd.read_csv(\"generated_test.csv\", header=None)\n",
    "df.drop(index=400, inplace=True)\n",
    "X = df.drop(2, axis=1).values.astype(float)\n",
    "y = df[2].values.astype(float)"
   ]
  },
  {
   "cell_type": "code",
   "execution_count": 25,
   "metadata": {},
   "outputs": [
    {
     "name": "stdout",
     "output_type": "stream",
     "text": [
      "Theta for primal of SVM is [0.46300757 0.40782706]\n",
      "Theta for dual of SVM is [0.44479136 0.13081562]\n"
     ]
    },
    {
     "name": "stderr",
     "output_type": "stream",
     "text": [
      "/tmp/ipykernel_108680/2952894441.py:17: DeprecationWarning: Calling np.sum(generator) is deprecated, and in the future will give a different result. Use np.sum(np.fromiter(generator)) or the python sum builtin instead.\n",
      "  theta = np.sum(alpha[i] * y[i] * X[i] for i in range(m))\n"
     ]
    }
   ],
   "source": [
    "theta_primal, bias_primal = svm_primal(X, y)\n",
    "print(f\"Theta for primal of SVM is {theta_primal}\")\n",
    "\n",
    "theta_dual, bias_dual = svm_dual(X, y)\n",
    "print(f\"Theta for dual of SVM is {theta_dual}\")"
   ]
  },
  {
   "cell_type": "markdown",
   "metadata": {},
   "source": [
    "### Diabetes"
   ]
  },
  {
   "cell_type": "code",
   "execution_count": 28,
   "metadata": {},
   "outputs": [],
   "source": [
    "df = pd.read_csv(\"diabetes.csv\")\n",
    "X = df.drop(\"Outcome\", axis=1).values.astype(float)\n",
    "y = df[\"Outcome\"].values.astype(float)"
   ]
  },
  {
   "cell_type": "code",
   "execution_count": 29,
   "metadata": {},
   "outputs": [
    {
     "name": "stdout",
     "output_type": "stream",
     "text": [
      "Theta for primal of SVM is [0.00949135 1.32422952 0.76354653 0.01143894 0.08316805 0.37576435\n",
      " 0.00341356 0.49501219]\n",
      "Theta for dual of SVM is [ 0.6      0.42     1.88    -1.6      1.84    -0.216    3.04836  1.16   ]\n"
     ]
    },
    {
     "name": "stderr",
     "output_type": "stream",
     "text": [
      "/tmp/ipykernel_108680/2952894441.py:17: DeprecationWarning: Calling np.sum(generator) is deprecated, and in the future will give a different result. Use np.sum(np.fromiter(generator)) or the python sum builtin instead.\n",
      "  theta = np.sum(alpha[i] * y[i] * X[i] for i in range(m))\n"
     ]
    }
   ],
   "source": [
    "theta_primal, bias_primal = svm_primal(X, y)\n",
    "print(f\"Theta for primal of SVM is {theta_primal}\")\n",
    "\n",
    "theta_dual, bias_dual = svm_dual(X, y)\n",
    "print(f\"Theta for dual of SVM is {theta_dual}\")"
   ]
  },
  {
   "cell_type": "markdown",
   "metadata": {},
   "source": [
    "### Breast-Cancer"
   ]
  },
  {
   "cell_type": "code",
   "execution_count": 48,
   "metadata": {},
   "outputs": [],
   "source": [
    "df = pd.read_csv(\"breast-cancer.csv\")\n",
    "df.drop(\"id\", axis=1 , inplace=True)\n",
    "X = df.drop(\"diagnosis\", axis=1).values.astype(float)\n",
    "y = df[\"diagnosis\"].values\n",
    "y[y==\"M\"] = 1\n",
    "y[y==\"B\"] = -1"
   ]
  },
  {
   "cell_type": "code",
   "execution_count": 49,
   "metadata": {},
   "outputs": [
    {
     "name": "stdout",
     "output_type": "stream",
     "text": [
      "Theta for primal of SVM is [-5.33866598e-01 -1.24114342e+00 -3.23648524e+00 -4.91241673e-01\n",
      " -6.85742320e-03 -3.73092732e-03  3.76585941e-03  1.43393424e-03\n",
      " -1.26868111e-02 -5.11200283e-03 -5.53995719e-03 -8.71976713e-02\n",
      " -3.16286809e-02  1.07836869e+00 -7.56173396e-04 -9.65178330e-04\n",
      " -4.67439876e-04 -3.89108658e-04 -1.46438066e-03 -2.94335298e-04\n",
      " -5.22954717e-01 -1.55266673e+00 -3.07676379e+00  8.55294391e+00\n",
      " -1.00039884e-02 -3.44413901e-03  8.96681206e-03  2.81864793e-04\n",
      " -1.85796626e-02 -5.95208787e-03]\n",
      "Theta for dual of SVM is [-1.44184447e+04 -2.75088002e+04 -8.75051420e+04 -8.74378540e+04\n",
      " -1.56105172e+02 -4.03646934e+01  1.03459679e+02  5.36561899e+01\n",
      " -2.93041386e+02 -1.17546440e+02 -1.19575094e+02 -2.27858466e+03\n",
      " -6.95032202e+02  2.01847282e+04 -1.39762606e+01 -2.03789762e+01\n",
      " -2.01989519e+01 -9.46048696e+00 -3.74139325e+01 -5.94147140e+00\n",
      " -1.41229888e+04 -3.51088108e+04 -8.53383748e+04  6.36851800e+04\n",
      " -2.03972307e+02 -2.58393242e+01  1.52947496e+02  3.35488666e+01\n",
      " -4.16596680e+02 -1.28684892e+02]\n"
     ]
    },
    {
     "name": "stderr",
     "output_type": "stream",
     "text": [
      "/tmp/ipykernel_108680/2952894441.py:17: DeprecationWarning: Calling np.sum(generator) is deprecated, and in the future will give a different result. Use np.sum(np.fromiter(generator)) or the python sum builtin instead.\n",
      "  theta = np.sum(alpha[i] * y[i] * X[i] for i in range(m))\n"
     ]
    }
   ],
   "source": [
    "theta_primal, bias_primal = svm_primal(X, y)\n",
    "print(f\"Theta for primal of SVM is {theta_primal}\")\n",
    "\n",
    "theta_dual, bias_dual = svm_dual(X, y)\n",
    "print(f\"Theta for dual of SVM is {theta_dual}\")"
   ]
  }
 ],
 "metadata": {
  "kernelspec": {
   "display_name": "Python 3.9.13 64-bit",
   "language": "python",
   "name": "python3"
  },
  "language_info": {
   "codemirror_mode": {
    "name": "ipython",
    "version": 3
   },
   "file_extension": ".py",
   "mimetype": "text/x-python",
   "name": "python",
   "nbconvert_exporter": "python",
   "pygments_lexer": "ipython3",
   "version": "3.9.13"
  },
  "vscode": {
   "interpreter": {
    "hash": "c3a0e1ed7a67280133f8ade5886c8db9f663bbe0c0db84aba701ac80290ec8d2"
   }
  }
 },
 "nbformat": 4,
 "nbformat_minor": 2
}
