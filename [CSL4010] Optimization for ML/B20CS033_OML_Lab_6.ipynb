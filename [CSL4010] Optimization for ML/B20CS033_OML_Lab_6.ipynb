{
  "cells": [
    {
      "cell_type": "markdown",
      "metadata": {},
      "source": [
        "# **OML Lab 6**"
      ]
    },
    {
      "cell_type": "markdown",
      "metadata": {
        "id": "6kVQfuqn8zqJ"
      },
      "source": [
        "## Q1"
      ]
    },
    {
      "cell_type": "code",
      "execution_count": null,
      "metadata": {
        "colab": {
          "base_uri": "https://localhost:8080/"
        },
        "id": "lPMOQpCz47d6",
        "outputId": "bcf5ae4a-509d-4cb6-e107-f4f927e5b822"
      },
      "outputs": [
        {
          "name": "stdout",
          "output_type": "stream",
          "text": [
            "(100, 2)\n",
            "(99, 1)\n",
            "Optimal Coefficients (x): [0.09877581]\n"
          ]
        }
      ],
      "source": [
        "import numpy as np\n",
        "import pandas as pd\n",
        "from scipy.optimize import minimize\n",
        "\n",
        "data = pd.read_excel(\"C:/Users/YASH MANIYA/Desktop/Python/OML Labs/2_col_revised.xlsx\", header=None)\n",
        "\n",
        "print(data.shape)\n",
        "\n",
        "col_prices_sheet = np.array(data.iloc[:-1, 0]).astype(float).reshape(-1,1)\n",
        "print(col_prices_sheet.shape)\n",
        "area = np.array(data.iloc[:-1, 1]).astype(float).reshape(-1,1)\n",
        "\n",
        "R = 3\n",
        "lam = abs(R / 10 - 5)\n",
        "A = area.reshape(-1, 1)  # A matrix with only area\n",
        "y = col_prices_sheet  # Target vector\n",
        "\n",
        "ATA = np.dot(A.T, A)\n",
        "ATy = np.dot(A.T, y)\n",
        "optimal_coefficients = np.linalg.solve(ATA + lam * np.identity(1), ATy).ravel()\n",
        "\n",
        "print(\"Optimal Coefficients (x):\", optimal_coefficients)"
      ]
    },
    {
      "cell_type": "markdown",
      "metadata": {
        "id": "DU9ZmOxn813f"
      },
      "source": [
        "## Q2"
      ]
    },
    {
      "cell_type": "code",
      "execution_count": null,
      "metadata": {
        "colab": {
          "base_uri": "https://localhost:8080/"
        },
        "id": "2BW-Ovd-82iO",
        "outputId": "86a8aefc-5cb4-4c9c-b1b4-e976b9164aa2"
      },
      "outputs": [
        {
          "name": "stdout",
          "output_type": "stream",
          "text": [
            "Coefficients (a): [669588.38915016 491223.45561806 814570.45853753]\n",
            "Intercept (b): 4922747.9\n"
          ]
        }
      ],
      "source": [
        "import numpy as np\n",
        "import pandas as pd\n",
        "from sklearn.linear_model import Ridge\n",
        "df = pd.read_csv(\"C:/Users/YASH MANIYA/Desktop/Python/OML Labs/6 columns.csv\")\n",
        "X = df[['area', 'bedrooms', 'bathrooms']]\n",
        "y = df['price']\n",
        "R = 3\n",
        "lam = abs(R / 10 - 5)\n",
        "X_mean = np.mean(X, axis=0)\n",
        "X_std = np.std(X, axis=0)\n",
        "\n",
        "X_scaled = (X - X_mean) / X_std\n",
        "\n",
        "X_scaled_with_bias = np.column_stack((np.ones(X_scaled.shape[0]), X_scaled))\n",
        "\n",
        "n, p = X_scaled_with_bias.shape\n",
        "identity_matrix = np.identity(p)\n",
        "identity_matrix[0, 0] = 0  # Don't regularize the bias term\n",
        "X_transpose = X_scaled_with_bias.T\n",
        "coeff = np.linalg.inv(X_transpose.dot(X_scaled_with_bias) + lam * identity_matrix).dot(X_transpose).dot(y)\n",
        "\n",
        "print(\"Coefficients (a):\", coeff[1:])\n",
        "print(\"Intercept (b):\", coeff[0])"
      ]
    },
    {
      "cell_type": "markdown",
      "metadata": {
        "id": "adIjXyQtAhwa"
      },
      "source": [
        "## Q3"
      ]
    },
    {
      "cell_type": "code",
      "execution_count": null,
      "metadata": {
        "colab": {
          "base_uri": "https://localhost:8080/"
        },
        "id": "xedBMqheAiv7",
        "outputId": "966eb33d-e945-42c6-91e9-f8e6fb206c8b"
      },
      "outputs": [
        {
          "name": "stdout",
          "output_type": "stream",
          "text": [
            "Optimized coeff is:  [4.89823938e+07 2.67019629e+11 1.49835630e+08 7.07404218e+07]\n"
          ]
        }
      ],
      "source": [
        "def sigmoid(z):\n",
        "    return 1 / (1 + np.exp(-z))\n",
        "def gradient_descent(X, y, coeff, alpha, lambda_, num_iterations):\n",
        "    m, n = X.shape\n",
        "    for _ in range(num_iterations):\n",
        "        h = sigmoid(X.dot(coeff))\n",
        "        gradient = (1 / m) * X.T.dot(h - y) + (lambda_ / m) * coeff\n",
        "        coeff -= alpha * gradient\n",
        "    return coeff\n",
        "data = pd.read_csv(\"C:/Users/YASH MANIYA/Desktop/Python/OML Labs/6 columns.csv\")\n",
        "X = data[['area', 'bedrooms', 'bathrooms']]\n",
        "y = data['price']\n",
        "\n",
        "X = np.column_stack((np.ones(X.shape[0]), X))\n",
        "\n",
        "coeff = np.zeros(X.shape[1])\n",
        "alpha = 0.01\n",
        "lambda_ = 0.1\n",
        "num_iterations = 1000\n",
        "\n",
        "optimized_coeff = gradient_descent(X, y, coeff, alpha, lambda_, num_iterations)\n",
        "print(\"Optimized coeff is: \",optimized_coeff )"
      ]
    },
    {
      "cell_type": "code",
      "execution_count": null,
      "metadata": {
        "colab": {
          "base_uri": "https://localhost:8080/"
        },
        "id": "98EHjQCwJo5W",
        "outputId": "fc3bdc13-f58e-4ac1-bea3-99005aab07ff"
      },
      "outputs": [
        {
          "name": "stderr",
          "output_type": "stream",
          "text": [
            "/usr/local/lib/python3.10/dist-packages/pandas/core/arraylike.py:402: RuntimeWarning: overflow encountered in exp\n",
            "  result = getattr(ufunc, method)(*inputs, **kwargs)\n"
          ]
        },
        {
          "name": "stdout",
          "output_type": "stream",
          "text": [
            "Optimal Theta (Gradient Descent): [14.22887271662626, -1.4284340192269855, -11.058051932987281, -1.0923250731825889, -3.1377913635368966, 0.31623596069950066, 0.6861023372022733, -1.2052283672426836, -3.2633753955105695]\n",
            "Optimal Theta (Mirror Descent): [0. 0. 0. 0. 0. 0. 0. 0. 0.]\n",
            "Optimal Theta (Newton's Method): [ 1.17172262e-01  2.83915216e-02 -1.68897401e-02  7.55630139e-04\n",
            " -6.42815874e-04  5.97833701e-02  6.77479820e-01  7.22644307e-03\n",
            " -5.89285545e+00]\n"
          ]
        }
      ],
      "source": [
        "data = pd.read_csv('diabetes2.csv')\n",
        "X = data.drop('Outcome', axis=1)\n",
        "y = data['Outcome']\n",
        "X['intercept'] = 1\n",
        "\n",
        "def sigmoid(z):\n",
        "    return 1 / (1 + np.exp(-z))\n",
        "\n",
        "def logistic_loss(theta, X, y, lambda_reg):\n",
        "    m = len(y)\n",
        "    h = sigmoid(X.dot(theta))\n",
        "    regularization_term = (lambda_reg / (2 * m)) * np.sum(theta[1:]**2)\n",
        "    J = (-1 / m) * (y.dot(np.log(h)) + (1 - y).dot(np.log(1 - h))) + regularization_term\n",
        "    return J\n",
        "\n",
        "def logistic_gradient(theta, X, y, lambda_reg):\n",
        "    m = len(y)\n",
        "    h = sigmoid(X.dot(theta))\n",
        "    gradient = (1 / m) * X.T.dot(h - y)\n",
        "    gradient[1:] += (lambda_reg / m) * theta[1:]\n",
        "    return gradient\n",
        "\n",
        "def logistic_hessian(theta, X, y, lambda_reg):\n",
        "    m = len(y)\n",
        "    h = sigmoid(X.dot(theta))\n",
        "    diagonal = (1 / m) * (h * (1 - h)).sum()\n",
        "    X_array = X.values  # Convert DataFrame to a numpy array\n",
        "    hessian = (1 / m) * X_array.T.dot(X_array)\n",
        "    np.fill_diagonal(hessian, np.diag(hessian) + (lambda_reg / m))\n",
        "    return hessian\n",
        "\n",
        "theta_initial = np.zeros(X.shape[1])\n",
        "lambda_reg = 1.0\n",
        "learning_rate = 0.1\n",
        "tolerance = 1e-6\n",
        "theta = theta_initial.copy()\n",
        "for _ in range(1000):\n",
        "    gradient = logistic_gradient(theta, X, y, lambda_reg)\n",
        "    theta -= learning_rate * gradient\n",
        "    if np.linalg.norm(gradient) < tolerance:\n",
        "        break\n",
        "\n",
        "print(\"Optimal Theta (Gradient Descent):\", theta.tolist())\n",
        "\n",
        "symmetric_matrix = np.random.uniform(5, 10, (X.shape[1], X.shape[1]))\n",
        "for i in range(X.shape[1]):\n",
        "    symmetric_matrix[i, i] = np.random.uniform(5, 10)\n",
        "for i in range(X.shape[1]):\n",
        "    for j in range(i + 1, X.shape[1]):\n",
        "        symmetric_matrix[i, j] = symmetric_matrix[j, i] = np.random.uniform(0, 1)\n",
        "\n",
        "L = np.max(np.linalg.eigvalsh(symmetric_matrix))  # Lipschitz constant\n",
        "theta = theta_initial.copy()\n",
        "for _ in range(1000):  # Maximum number of iterations\n",
        "    gradient = logistic_gradient(theta, X, y, lambda_reg)\n",
        "    theta = theta.dot(np.linalg.inv(np.eye(X.shape[1]) + (learning_rate / L) * symmetric_matrix))\n",
        "    if np.linalg.norm(gradient) < tolerance:\n",
        "        break\n",
        "\n",
        "print(\"Optimal Theta (Mirror Descent):\", theta)\n",
        "\n",
        "theta = theta_initial.copy()\n",
        "for _ in range(1000):  # Maximum number of iterations\n",
        "    gradient = logistic_gradient(theta, X, y, lambda_reg)\n",
        "    hessian = logistic_hessian(theta, X, y, lambda_reg)\n",
        "    theta -= np.linalg.inv(hessian).dot(gradient)\n",
        "    if np.linalg.norm(gradient) < tolerance:\n",
        "        break\n",
        "\n",
        "print(\"Optimal Theta (Newton's Method):\", theta)\n"
      ]
    },
    {
      "cell_type": "markdown",
      "metadata": {
        "id": "1NEJZ-GuBOdk"
      },
      "source": [
        "## Q4"
      ]
    },
    {
      "cell_type": "code",
      "execution_count": null,
      "metadata": {
        "colab": {
          "base_uri": "https://localhost:8080/"
        },
        "id": "LsHdwGQUBPgh",
        "outputId": "118028b8-b583-4dfd-e56e-f94710364358"
      },
      "outputs": [
        {
          "name": "stdout",
          "output_type": "stream",
          "text": [
            "Result for alpha1 (1/2): [1.11022302e-16 1.11022302e-16]\n",
            "Result for alpha2 (1/(r + k)):  [0.00900901 0.00900901]\n"
          ]
        }
      ],
      "source": [
        "def objective_function(x):\n",
        "    return 0.5 * (x[0] - 2)**2 + 0.5 * (x[1] - 2)**2 + 0.5 * np.linalg.norm(x, ord=1)\n",
        "\n",
        "def poximal(x, lambda_):\n",
        "    return np.sign(x) * np.maximum(0, np.abs(x) - lambda_)\n",
        "\n",
        "x = np.array([0.0, 0.0])\n",
        "alpha1 = 1/2\n",
        "r = 11\n",
        "max_itr = 100\n",
        "for iteration in range(max_itr):\n",
        "    grad = np.array([x[0] - 2, x[1] - 2]) + np.sign(x)\n",
        "    x = poximal(x - alpha1 * grad, alpha1)\n",
        "\n",
        "\n",
        "print(\"Result for alpha1 (1/2):\", x)\n",
        "\n",
        "x = np.array([0.0, 0.0])\n",
        "\n",
        "alpha2 = 1 / (r + np.arange(1, max_itr + 1))\n",
        "for iteration in range(max_itr):\n",
        "    grad = np.array([x[0] - 2, x[1] - 2]) + np.sign(x)\n",
        "    x = poximal(x - alpha2[iteration] * grad, alpha2[iteration])\n",
        "\n",
        "print(\"Result for alpha2 (1/(r + k)): \", x)\n"
      ]
    },
    {
      "cell_type": "markdown",
      "metadata": {
        "id": "glfTtJX_Badg"
      },
      "source": [
        "## Q5"
      ]
    },
    {
      "cell_type": "code",
      "execution_count": null,
      "metadata": {
        "colab": {
          "base_uri": "https://localhost:8080/"
        },
        "id": "y9r7HmYOBbmZ",
        "outputId": "aeaf8ea9-a8bb-4f78-c1cf-2a64b2844d07"
      },
      "outputs": [
        {
          "name": "stdout",
          "output_type": "stream",
          "text": [
            "Optimal coefficients (x): [-0. -0. -0. -0. -0. -0. -0. -0. -0. -0. -0. -0. -0. -0. -0. -0. -0. -0.\n",
            " -0. -0. -0. -0. -0. -0. -0. -0. -0. -0. -0. -0. -0. -0. -0. -0. -0. -0.\n",
            " -0. -0. -0. -0. -0. -0. -0. -0. -0. -0. -0. -0. -0. -0. -0. -0. -0. -0.\n",
            " -0. -0. -0. -0. -0. -0. -0. -0. -0. -0. -0. -0. -0. -0. -0. -0. -0. -0.\n",
            " -0. -0. -0. -0. -0. -0. -0. -0. -0. -0. -0. -0. -0. -0. -0. -0. -0. -0.\n",
            " -0. -0. -0. -0. -0. -0. -0. -0.]\n"
          ]
        }
      ],
      "source": [
        "data = pd.read_excel('C:/Users/YASH MANIYA/Desktop/Python/OML Labs/2_col_revised.xlsx', header=None)  # Replace 'house_data.xlsx' with your file path\n",
        "X = data.iloc[:98,0].values  # Area (in sq feet)\n",
        "y = data.iloc[:98,1].values  # House price (in Rs)\n",
        "\n",
        "X = (X - X.mean()) / X.std()\n",
        "y = (y - y.mean()) / y.std()\n",
        "\n",
        "def cost_function(x, X, y, lambda_):\n",
        "    residuals = X.dot(x) - y\n",
        "    mse = 0.5 * np.mean(residuals**2)\n",
        "    l1_reg = lambda_ * np.sum(np.abs(x))\n",
        "    return mse + l1_reg\n",
        "\n",
        "def proximal_operator(x, alpha):\n",
        "    return np.sign(x) * np.maximum(0, np.abs(x) - alpha)\n",
        "\n",
        "lambda_ = np.abs(11 / 10 - 5)\n",
        "alpha_k = 1 / 2  # You can also use 1 / (r + k) if needed\n",
        "x = np.zeros(len(X))  # Initialize x with zeros\n",
        "iterations = 1000  # Choose an appropriate number of iterations\n",
        "\n",
        "for k in range(iterations):\n",
        "    gradient = X.T.dot(X.dot(x) - y) / len(y)\n",
        "    x = proximal_operator(x - alpha_k * gradient, alpha_k * lambda_)\n",
        "\n",
        "x = x * y.std() / X.std()\n",
        "\n",
        "print(\"Optimal coefficients (x):\", x)\n"
      ]
    }
  ],
  "metadata": {
    "colab": {
      "provenance": []
    },
    "kernelspec": {
      "display_name": "Python 3.9.13 64-bit",
      "language": "python",
      "name": "python3"
    },
    "language_info": {
      "name": "python",
      "version": "3.9.13"
    },
    "vscode": {
      "interpreter": {
        "hash": "c3a0e1ed7a67280133f8ade5886c8db9f663bbe0c0db84aba701ac80290ec8d2"
      }
    }
  },
  "nbformat": 4,
  "nbformat_minor": 0
}
